{
 "cells": [
  {
   "cell_type": "code",
   "execution_count": null,
   "metadata": {},
   "outputs": [],
   "source": [
    "# Mengimpor library\n",
    "import os\n",
    "import datetime\n",
    "import numpy as np\n",
    "import pandas as pd\n",
    "from datetime import datetime"
   ]
  },
  {
   "cell_type": "code",
   "execution_count": null,
   "metadata": {},
   "outputs": [],
   "source": [
    "# Memuat dataset\n",
    "list_of_dataframes = list()\n",
    "\n",
    "# variabel untuk menyimpan data yang ada di folder input\n",
    "players_df = None\n",
    "competitions_df = None\n",
    "games_df = None\n",
    "game_events_df = None\n",
    "club_games_df = None\n",
    "player_valuations_df = None\n",
    "game_lineups_df = None\n",
    "appearances_df = None\n",
    "clubs_df = None\n",
    "\n",
    "# pengulangan melalui file-file di folder 'input' dan memuatnya ke dalam DataFrames\n",
    "for dirname, _, filenames in os.walk('input'):\n",
    "    for filename in filenames:\n",
    "        # Buat nama DataFrame berdasarkan nama file\n",
    "        df_name = filename.split('.')[0] + '_df'\n",
    "        file = os.path.join(dirname, filename)\n",
    "        \n",
    "        # Baca file CSV dan buat DataFrame dengan nama dinamis\n",
    "        df = pd.read_csv(file, sep=\",\", encoding=\"UTF-8\")\n",
    "        exec(f'{df_name} = df.copy()')\n",
    "        print(file, df_name, df.shape)\n",
    "        list_of_dataframes.append(df)\n"
   ]
  },
  {
   "cell_type": "code",
   "execution_count": null,
   "metadata": {},
   "outputs": [],
   "source": [
    "# Pilih pemain dengan tanggal lahir yang kosong dan musim terakhir sama dengan 2023\n",
    "players_df[(players_df['date_of_birth'].isna() == True) & (players_df.last_season == 2023)]"
   ]
  },
  {
   "cell_type": "code",
   "execution_count": null,
   "metadata": {},
   "outputs": [],
   "source": [
    "# Hitung umur setiap pemain dan sisa hari dalam kontrak mereka\n",
    "# Hapus pemain yang tidak memiliki tanggal lahir atau tanggal kedaluwarsa kontrak\n",
    "# Bulatkan umur ke bilangan bulat terdekat\n",
    "players_df['date_of_birth'] = pd.to_datetime(players_df['date_of_birth'])\n",
    "players_df = players_df[players_df['date_of_birth'].isnull() == False]\n",
    "now = datetime.now()\n",
    "players_df['age'] = (now - players_df['date_of_birth']).apply(lambda x: x.days) / 365.25\n",
    "players_df['age'] = players_df['age'].round().astype(int)\n",
    "players_df['contract_expiration_date'] = pd.to_datetime(players_df['contract_expiration_date'])\n",
    "players_df = players_df[players_df['contract_expiration_date'].isnull() == False]\n",
    "players_df['term_days_remaining'] = (players_df['contract_expiration_date'] - now).apply(lambda x: x.days)"
   ]
  },
  {
   "cell_type": "code",
   "execution_count": null,
   "metadata": {},
   "outputs": [],
   "source": [
    "# Buat DataFrame merged_players_df dengan menghapus beberapa kolom\n",
    "# Reindeks kolom dan tambahkan kolom baru dari clubs_df\n",
    "# Urutkan urutan kolom\n",
    "merged_players_df = players_df.drop(['current_club_id', 'city_of_birth', 'date_of_birth', 'first_name', 'last_name', 'player_code', 'image_url', 'url'], axis=1)\n",
    "merged_players_df = merged_players_df.reindex(columns=merged_players_df.columns.tolist() + ['club_value', 'squad_size', 'goals', 'goals_2022', 'games_2022', 'assists_2022', 'minutes_played_2022', 'goals_against_2022', 'goals_for_2022', 'clean_sheet_2022'])\n",
    "\n",
    "# pengulangan melalui ID pemain untuk mengisi informasi terkait klub\n",
    "for player_id in merged_players_df.player_id.unique():\n",
    "    #print(players_df.current_club_id[(players_df.player_id==player_id)])\n",
    "    club_id= players_df.current_club_id[(players_df.player_id==player_id)]\n",
    "    #print(clubs_df.total_market_value[(clubs_df.club_id==int(club_id))])\n",
    "    #print(clubs_df.squad_size[(clubs_df.club_id==int(club_id))])\n",
    "    try:\n",
    "        merged_players_df.club_value[(players_df.player_id==player_id)]=int(clubs_df.total_market_value[(clubs_df.club_id==int(club_id))])\n",
    "    except:\n",
    "        merged_players_df.club_value[(players_df.player_id==player_id)]='NaN'  \n",
    "    merged_players_df.squad_size[(players_df.player_id==player_id)]=int((clubs_df.squad_size[(clubs_df.club_id==int(club_id))]))\n",
    "\n",
    "columns=['player_id','games_2022','minutes_played_2022','goals_2022','assists_2022','goals_against_2022','goals_for_2022','clean_sheet_2022','name','position','sub_position','last_season','foot','height_in_cm','age','country_of_citizenship','country_of_birth','current_club_name','club_value','squad_size','current_club_domestic_competition_id','agent_name','contract_expiration_date','term_days_remaining','market_value_in_eur','highest_market_value_in_eur']\n",
    "merged_players_df=merged_players_df[columns]\n",
    "\n",
    "# Gabungkan DataFrames games dan appearances\n",
    "games_and_appearances_df = appearances_df.merge(games_df, on=['game_id'], how='left')\n",
    "print('Data Pemain dan Klub digabungkan')"
   ]
  },
  {
   "cell_type": "code",
   "execution_count": null,
   "metadata": {},
   "outputs": [],
   "source": [
    "# Gabungkan kembali games dan appearances\n",
    "games_and_appearances_df = appearances_df.merge(games_df, on=['game_id'], how='left')\n",
    "season = 2022\n",
    "\n",
    "# Buat fungsi untuk mengumpulkan statistik pemain berdasarkan player_id dan season\n",
    "def player_stats(player_id, season, df):\n",
    "    df = games_and_appearances_df[games_and_appearances_df['player_id'] == player_id]\n",
    "    df =  df[ df['season'] == season]    \n",
    "    if (df.shape[0] == 0):\n",
    "        Out = [(np.nan, season,0,0,0,0,0,0,0,0,0)]\n",
    "        out_df = pd.DataFrame(data = Out, columns = ['player_id','season','goals','games',\n",
    "                                                     'assists','minutes_played','goals_for','goals_against','clean_sheet','yellow_cards','red_cards'])\n",
    "        return out_df    \n",
    "    else:       \n",
    "        df[\"goals_for\"] = df.apply(lambda row: row['home_club_goals'] if row['home_club_id'] == row['player_club_id'] \n",
    "            else row['away_club_goals'] if row['away_club_id'] == row['player_club_id'] \n",
    "            else np.nan, axis=1)\n",
    "        df[\"goals_against\"] = df.apply(lambda row: row['away_club_goals'] if row['home_club_id'] == row['player_club_id'] \n",
    "            else row['home_club_goals'] if row['away_club_id'] == row['player_club_id'] \n",
    "            else np.nan, axis=1)\n",
    "        df['clean_sheet'] = df.apply(lambda row: 1 if row['goals_against'] == 0\n",
    "            else 0 if row['goals_against'] > 0\n",
    "            else np.nan, axis=1)\n",
    "        df = df.groupby(['player_id',\"season\"],as_index=False).agg({'goals': 'sum', 'game_id': 'nunique', \n",
    "                                                                      'assists': 'sum', 'minutes_played' : 'sum', 'goals_for' : 'sum',\n",
    "                                                                      'goals_against' : 'sum', 'clean_sheet' : 'sum','yellow_cards':'sum','red_cards':'sum'})\n",
    "        out_df = df.rename(columns={'game_id': 'games'})\n",
    "        return out_df\n",
    "\n",
    "for index in merged_players_df.index:\n",
    "    id = merged_players_df.loc[index][0]\n",
    "    name = merged_players_df.loc[index][1]\n",
    "    stats = player_stats(id, season, games_and_appearances_df)\n",
    "    try:\n",
    "        merged_players_df.at[index,'games_{}'.format(season)]= stats['games'][0]\n",
    "        merged_players_df.at[index,'goals_{}'.format(season)]= stats['goals'][0]\n",
    "        merged_players_df.at[index,'assists_{}'.format(season)]= stats['assists'][0]\n",
    "        merged_players_df.at[index,'minutes_played_{}'.format(season)]= stats['minutes_played'][0]\n",
    "        merged_players_df.at[index,'goals_for_{}'.format(season)]= stats['goals_for'][0]\n",
    "        merged_players_df.at[index,'goals_against_{}'.format(season)]= stats['goals_against'][0]\n",
    "        merged_players_df.at[index,'clean_sheet_{}'.format(season)]= stats['clean_sheet'][0]\n",
    "        merged_players_df.at[index,'yellow_cards_{}'.format(season)]= stats['yellow_cards'][0]\n",
    "        merged_players_df.at[index,'red_cards_{}'.format(season)]= stats['red_cards'][0]\n",
    "    except:\n",
    "        n=n+1\n",
    "\n",
    "print('appearance,goal and card data merged')\n",
    "print(merged_players_df.info())"
   ]
  },
  {
   "cell_type": "code",
   "execution_count": null,
   "metadata": {},
   "outputs": [],
   "source": [
    "# Gabungkan merged_players_df dengan competitions_df berdasarkan 'current_club_domestic_competition_id'\n",
    "suffixes = ('_player', '_competition')\n",
    "dataProcessed = pd.merge(merged_players_df, competitions_df, left_on='current_club_domestic_competition_id', right_on='competition_id', how='left', suffixes=suffixes)\n",
    "\n",
    "# Tampilkan informasi tentang dataframe yang digabungkan dan simpan ke file CSV\n",
    "dataProcessed.to_csv('output/dataProcessed.csv', index=False)\n",
    "print(dataProcessed.info())\n"
   ]
  },
  {
   "cell_type": "code",
   "execution_count": null,
   "metadata": {},
   "outputs": [],
   "source": []
  }
 ],
 "metadata": {
  "kernelspec": {
   "display_name": "base",
   "language": "python",
   "name": "python3"
  },
  "language_info": {
   "codemirror_mode": {
    "name": "ipython",
    "version": 3
   },
   "file_extension": ".py",
   "mimetype": "text/x-python",
   "name": "python",
   "nbconvert_exporter": "python",
   "pygments_lexer": "ipython3",
   "version": "3.9.7"
  }
 },
 "nbformat": 4,
 "nbformat_minor": 2
}
